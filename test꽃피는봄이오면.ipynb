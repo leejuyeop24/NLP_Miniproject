{
 "cells": [
  {
   "cell_type": "code",
   "execution_count": 7,
   "id": "5d1f4790",
   "metadata": {},
   "outputs": [],
   "source": [
    "import csv\n",
    "import pandas as pd\n",
    "import re"
   ]
  },
  {
   "cell_type": "code",
   "execution_count": 8,
   "id": "78acccb8",
   "metadata": {},
   "outputs": [],
   "source": [
    "# 1. 파일 경로\n",
    "file_path = \"../data/[대본]꽃피는봄이오면.csv\""
   ]
  },
  {
   "cell_type": "code",
   "execution_count": 9,
   "id": "20318734",
   "metadata": {},
   "outputs": [],
   "source": [
    "# 2. 결과 저장 리스트\n",
    "dialogues = []"
   ]
  },
  {
   "cell_type": "code",
   "execution_count": 10,
   "id": "1feeb036",
   "metadata": {},
   "outputs": [],
   "source": [
    "# 3. CSV 파일 읽기\n",
    "with open(file_path, \"r\", encoding=\"utf-8\", errors=\"ignore\") as f:\n",
    "    reader = csv.reader(f)\n",
    "    for row in reader:\n",
    "        if len(row) == 2:\n",
    "            # 등장인물 이름 정제\n",
    "            raw_speaker = row[0].strip().replace('\"', '')\n",
    "            speaker = re.sub(r'\\(.*?\\)', '', raw_speaker).strip()\n",
    "\n",
    "            # 대사 줄 정제\n",
    "            dialogue = row[1].strip().replace('\"', '')\n",
    "\n",
    "            # 지문 또는 괄호 시작 줄 제외\n",
    "            if re.match(r'^\\(.*\\)$', dialogue) or dialogue.startswith('('):\n",
    "                continue\n",
    "\n",
    "            # 방언 라벨링\n",
    "            if speaker and dialogue:\n",
    "                dialect = \"전라도\" if len(speaker) <= 5 else \"표준어\"\n",
    "                dialogues.append({\n",
    "                    \"Speaker\": speaker,\n",
    "                    \"CleanLine\": dialogue,\n",
    "                    \"Dialect\": dialect\n",
    "                })"
   ]
  },
  {
   "cell_type": "code",
   "execution_count": 11,
   "id": "1052d7be",
   "metadata": {},
   "outputs": [
    {
     "data": {
      "text/plain": [
       "'../data/꽃피는봄이오면_사투리정리.csv'"
      ]
     },
     "execution_count": 11,
     "metadata": {},
     "output_type": "execute_result"
    }
   ],
   "source": [
    "# 5. 저장\n",
    "df = pd.DataFrame(dialogues)\n",
    "save_path = \"../data/꽃피는봄이오면_사투리정리.csv\"\n",
    "df.to_csv(save_path, index=False, encoding=\"utf-8\")\n",
    "save_path"
   ]
  }
 ],
 "metadata": {
  "kernelspec": {
   "display_name": "NLP",
   "language": "python",
   "name": "python3"
  },
  "language_info": {
   "codemirror_mode": {
    "name": "ipython",
    "version": 3
   },
   "file_extension": ".py",
   "mimetype": "text/x-python",
   "name": "python",
   "nbconvert_exporter": "python",
   "pygments_lexer": "ipython3",
   "version": "3.8.20"
  }
 },
 "nbformat": 4,
 "nbformat_minor": 5
}
