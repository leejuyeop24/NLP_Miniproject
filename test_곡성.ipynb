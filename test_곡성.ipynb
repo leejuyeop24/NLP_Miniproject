{
 "cells": [
  {
   "cell_type": "code",
   "execution_count": 1,
   "id": "1ea4674e",
   "metadata": {},
   "outputs": [],
   "source": [
    "import csv\n",
    "import pandas as pd\n",
    "import re"
   ]
  },
  {
   "cell_type": "code",
   "execution_count": 6,
   "id": "fd7ad1b2",
   "metadata": {},
   "outputs": [],
   "source": [
    "# 1. 파일 경로\n",
    "file_path = \"../data/[대본]곡성.csv\""
   ]
  },
  {
   "cell_type": "code",
   "execution_count": null,
   "id": "f3aa8c6f",
   "metadata": {},
   "outputs": [],
   "source": [
    "# 2. 화자별 방언 분류 기준\n",
    "jeolla_speakers = [\"종구\", \"장모\", \"효진\", \"노인\", \"여자\", \"병규\", \"병규처\", \"소장\", ]\n",
    "standard_speakers = [\"일광\"],\n"
   ]
  },
  {
   "cell_type": "code",
   "execution_count": 8,
   "id": "fed9355c",
   "metadata": {},
   "outputs": [],
   "source": [
    "# 3. 결과 저장\n",
    "dialogues = []"
   ]
  },
  {
   "cell_type": "code",
   "execution_count": 9,
   "id": "f3631d57",
   "metadata": {},
   "outputs": [],
   "source": [
    "# 4. CSV 파일 열고 처리\n",
    "with open(file_path, \"r\", encoding=\"utf-8\", errors=\"ignore\") as f:\n",
    "    reader = csv.reader(f)\n",
    "    next(reader)  # 헤더 스킵\n",
    "    for row in reader:\n",
    "        if len(row) == 2:\n",
    "            speaker_raw = row[0].strip().replace('\"', '')\n",
    "            line = row[1].strip().replace('\"', '')\n",
    "\n",
    "            # 괄호로만 된 설명 줄 제외\n",
    "            if re.match(r'^\\(.*\\)$', line) or line.startswith('('):\n",
    "                continue\n",
    "\n",
    "            # 화자 정리 (괄호 제거 + 쉼표 구분 제거)\n",
    "            speaker = re.sub(r'\\(.*?\\)', '', speaker_raw).split(',')[0].strip()\n",
    "\n",
    "            # 방언 판단\n",
    "            if any(name in speaker for name in jeolla_speakers):\n",
    "                dialect = \"전라도\"\n",
    "            elif speaker in standard_speakers:\n",
    "                dialect = \"표준어\"\n",
    "            elif re.search(r'[ぁ-んァ-ン一-龯]', line):  # 일본어 포함 여부\n",
    "                dialect = \"일본어\"\n",
    "            else:\n",
    "                dialect = \"표준어\"\n",
    "\n",
    "            # 유효한 줄 저장\n",
    "            if speaker and line:\n",
    "                dialogues.append({\n",
    "                    \"Speaker\": speaker,\n",
    "                    \"CleanLine\": line,\n",
    "                    \"Dialect\": dialect\n",
    "                })"
   ]
  },
  {
   "cell_type": "code",
   "execution_count": 10,
   "id": "c8ae47e4",
   "metadata": {},
   "outputs": [
    {
     "name": "stdout",
     "output_type": "stream",
     "text": [
      "✅ 저장 완료: 곡성_사투리정리.csv\n"
     ]
    }
   ],
   "source": [
    "# 5. 데이터프레임 저장\n",
    "df = pd.DataFrame(dialogues)\n",
    "df.to_csv(\"곡성_사투리정리.csv\", index=False, encoding=\"utf-8\")\n",
    "\n",
    "print(\"✅ 저장 완료: 곡성_사투리정리.csv\")\n"
   ]
  }
 ],
 "metadata": {
  "kernelspec": {
   "display_name": "NLP",
   "language": "python",
   "name": "python3"
  },
  "language_info": {
   "codemirror_mode": {
    "name": "ipython",
    "version": 3
   },
   "file_extension": ".py",
   "mimetype": "text/x-python",
   "name": "python",
   "nbconvert_exporter": "python",
   "pygments_lexer": "ipython3",
   "version": "3.8.20"
  }
 },
 "nbformat": 4,
 "nbformat_minor": 5
}
