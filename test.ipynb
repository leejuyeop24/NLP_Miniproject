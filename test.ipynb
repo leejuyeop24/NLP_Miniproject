{
 "cells": [
  {
   "cell_type": "code",
   "execution_count": 8,
   "id": "c6071458",
   "metadata": {},
   "outputs": [],
   "source": [
    "import re\n",
    "import pandas as pd"
   ]
  },
  {
   "cell_type": "code",
   "execution_count": 9,
   "id": "e02a0867",
   "metadata": {},
   "outputs": [],
   "source": [
    "# 1. 텍스트 파일 열기 (인코딩 주의)\n",
    "with open(\"../data/taxidriver(cn).txt\", \"r\", encoding=\"utf-8\", errors=\"ignore\") as f:\n",
    "    lines = f.readlines()"
   ]
  },
  {
   "cell_type": "code",
   "execution_count": 10,
   "id": "c4e4372c",
   "metadata": {},
   "outputs": [],
   "source": [
    "# 2. 대사 추출\n",
    "dialogues = []\n",
    "current_speaker = None\n",
    "\n",
    "for line in lines:\n",
    "    line = line.strip()\n",
    "    \n",
    "    # 인물 이름만 있는 줄: 예) 만섭, 피터, 기자 등\n",
    "    if re.match(r'^[가-힣]{2,10}$', line):\n",
    "        current_speaker = line\n",
    "        continue\n",
    "    \n",
    "    # 대사 줄: 현재 화자가 존재하고 괄호나 숫자/지문으로 시작하지 않는 줄\n",
    "    if current_speaker and line and not re.match(r'^\\d+[\\t ]', line) and not line.startswith(\"(\"):\n",
    "        dialogues.append({\n",
    "            \"Speaker\": current_speaker,\n",
    "            \"Dialogue\": line\n",
    "        })"
   ]
  },
  {
   "cell_type": "code",
   "execution_count": 11,
   "id": "2f0ddc72",
   "metadata": {},
   "outputs": [],
   "source": [
    "# 3. 데이터프레임 생성\n",
    "df = pd.DataFrame(dialogues)"
   ]
  },
  {
   "cell_type": "code",
   "execution_count": 12,
   "id": "5d36a44c",
   "metadata": {},
   "outputs": [],
   "source": [
    "# 4. CSV 파일로 출력\n",
    "df.to_csv(\"[호남 방언 대본]택시운전사.csv\", index=False, encoding=\"utf-8\")"
   ]
  },
  {
   "cell_type": "code",
   "execution_count": null,
   "id": "fe3731e2",
   "metadata": {},
   "outputs": [],
   "source": []
  }
 ],
 "metadata": {
  "kernelspec": {
   "display_name": "NLP",
   "language": "python",
   "name": "python3"
  },
  "language_info": {
   "codemirror_mode": {
    "name": "ipython",
    "version": 3
   },
   "file_extension": ".py",
   "mimetype": "text/x-python",
   "name": "python",
   "nbconvert_exporter": "python",
   "pygments_lexer": "ipython3",
   "version": "3.8.20"
  }
 },
 "nbformat": 4,
 "nbformat_minor": 5
}
