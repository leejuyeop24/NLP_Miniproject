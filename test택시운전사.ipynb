{
 "cells": [
  {
   "cell_type": "code",
   "execution_count": 1,
   "id": "3e1058a5",
   "metadata": {},
   "outputs": [],
   "source": [
    "import csv\n",
    "import pandas as pd\n",
    "import re"
   ]
  },
  {
   "cell_type": "code",
   "execution_count": 2,
   "id": "02e06387",
   "metadata": {},
   "outputs": [],
   "source": [
    "# 1. 대본 파일 경로\n",
    "file_path = \"../data/[대본]택시운전사.csv\""
   ]
  },
  {
   "cell_type": "code",
   "execution_count": 3,
   "id": "96049544",
   "metadata": {},
   "outputs": [],
   "source": [
    "# 2. 표준어 처리 대상 인물\n",
    "standard_speakers = [\"피터\", \"군인\", \"만섭\"]"
   ]
  },
  {
   "cell_type": "code",
   "execution_count": 4,
   "id": "a0831ab0",
   "metadata": {},
   "outputs": [],
   "source": [
    "# 3. 결과 저장 리스트\n",
    "dialogues = []"
   ]
  },
  {
   "cell_type": "code",
   "execution_count": 5,
   "id": "b83813a3",
   "metadata": {},
   "outputs": [],
   "source": [
    "# 4. 파일 열기 및 처리\n",
    "with open(file_path, \"r\", encoding=\"utf-8\", errors=\"ignore\") as f:\n",
    "    reader = csv.reader(f)\n",
    "    for row in reader:\n",
    "        if len(row) == 2:\n",
    "            # 화자 정리 (괄호 제거)\n",
    "            raw_speaker = row[0].strip().replace('\"', '')\n",
    "            speaker = re.sub(r'\\(.*?\\)', '', raw_speaker).strip()\n",
    "\n",
    "            # 대사 정리\n",
    "            dialogue = row[1].strip().replace('\"', '')\n",
    "\n",
    "            # 괄호 지문 제거\n",
    "            if re.match(r'^\\(.*\\)$', dialogue) or dialogue.startswith('('):\n",
    "                continue\n",
    "\n",
    "            # 라벨링 기준: 피터/군인/만섭 또는 이름이 6글자 이상이면 표준어\n",
    "            if speaker and dialogue:\n",
    "                if speaker in standard_speakers or len(speaker) >= 6:\n",
    "                    dialect = \"표준어\"\n",
    "                else:\n",
    "                    dialect = \"전라도\"\n",
    "\n",
    "                dialogues.append({\n",
    "                    \"Speaker\": speaker,\n",
    "                    \"CleanLine\": dialogue,\n",
    "                    \"Dialect\": dialect\n",
    "                })"
   ]
  },
  {
   "cell_type": "code",
   "execution_count": 6,
   "id": "b1009a37",
   "metadata": {},
   "outputs": [
    {
     "name": "stdout",
     "output_type": "stream",
     "text": [
      "✅ 저장 완료: 택시운전사_사투리정리.csv\n"
     ]
    }
   ],
   "source": [
    "# 5. DataFrame 생성 및 저장\n",
    "df = pd.DataFrame(dialogues)\n",
    "df.to_csv(\"택시운전사_사투리정리.csv\", index=False, encoding=\"utf-8\")\n",
    "\n",
    "print(\"✅ 저장 완료: 택시운전사_사투리정리.csv\")\n"
   ]
  }
 ],
 "metadata": {
  "kernelspec": {
   "display_name": "NLP",
   "language": "python",
   "name": "python3"
  },
  "language_info": {
   "codemirror_mode": {
    "name": "ipython",
    "version": 3
   },
   "file_extension": ".py",
   "mimetype": "text/x-python",
   "name": "python",
   "nbconvert_exporter": "python",
   "pygments_lexer": "ipython3",
   "version": "3.8.20"
  }
 },
 "nbformat": 4,
 "nbformat_minor": 5
}
