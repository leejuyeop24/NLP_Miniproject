{
 "cells": [
  {
   "cell_type": "code",
   "execution_count": 1,
   "id": "b9c71a3f",
   "metadata": {},
   "outputs": [],
   "source": [
    "import csv\n",
    "import pandas as pd\n",
    "import re\n"
   ]
  },
  {
   "cell_type": "code",
   "execution_count": 5,
   "id": "566cb076",
   "metadata": {},
   "outputs": [],
   "source": [
    "# 1. 파일 경로 설정\n",
    "file_path = \"../data/[대본]친구.csv\""
   ]
  },
  {
   "cell_type": "code",
   "execution_count": 6,
   "id": "9d0eaf47",
   "metadata": {},
   "outputs": [],
   "source": [
    "# 2. 결과 저장 리스트\n",
    "dialogues = []"
   ]
  },
  {
   "cell_type": "code",
   "execution_count": 8,
   "id": "e49d2d2d",
   "metadata": {},
   "outputs": [],
   "source": [
    "# 3. CSV처럼 읽어들이기\n",
    "with open(file_path, \"r\", encoding=\"utf-8\", errors=\"ignore\") as f:\n",
    "    reader = csv.reader(f)\n",
    "    for row in reader:\n",
    "        if len(row) == 2:\n",
    "            # 등장인물 이름에서 괄호 제거\n",
    "            raw_speaker = row[0].strip().replace('\"', '')\n",
    "            speaker = re.sub(r'\\(.*?\\)', '', raw_speaker).strip()\n",
    "\n",
    "            # 대사 줄\n",
    "            dialogue = row[1].strip().replace('\"', '')\n",
    "\n",
    "            # 4. 괄호 지문은 제외\n",
    "            if re.match(r'^\\(.*\\)$', dialogue) or dialogue.startswith('('):\n",
    "                continue\n",
    "\n",
    "            # 5. 유효한 줄만 저장\n",
    "            if speaker and dialogue:\n",
    "                dialogues.append({\n",
    "                    \"Speaker\": speaker,\n",
    "                    \"CleanLine\": dialogue,\n",
    "                    \"Dialect\": \"경상도\"  # 친구 대본은 전체 경상도\n",
    "                })\n"
   ]
  },
  {
   "cell_type": "code",
   "execution_count": 9,
   "id": "3fffc5f0",
   "metadata": {},
   "outputs": [],
   "source": [
    "# 6. 데이터프레임으로 변환\n",
    "df = pd.DataFrame(dialogues)"
   ]
  },
  {
   "cell_type": "code",
   "execution_count": 10,
   "id": "bed82009",
   "metadata": {},
   "outputs": [
    {
     "name": "stdout",
     "output_type": "stream",
     "text": [
      "저장 완료: 친구_사투리정리.csv (UTF-8)\n"
     ]
    }
   ],
   "source": [
    "# 7. CSV 저장\n",
    "df.to_csv(\"친구_사투리정리.csv\", index=False, encoding=\"utf-8\")\n",
    "\n",
    "print(\"저장 완료: 친구_사투리정리.csv (UTF-8)\")"
   ]
  }
 ],
 "metadata": {
  "kernelspec": {
   "display_name": "DL_TORCH",
   "language": "python",
   "name": "python3"
  },
  "language_info": {
   "codemirror_mode": {
    "name": "ipython",
    "version": 3
   },
   "file_extension": ".py",
   "mimetype": "text/x-python",
   "name": "python",
   "nbconvert_exporter": "python",
   "pygments_lexer": "ipython3",
   "version": "3.9.21"
  }
 },
 "nbformat": 4,
 "nbformat_minor": 5
}
