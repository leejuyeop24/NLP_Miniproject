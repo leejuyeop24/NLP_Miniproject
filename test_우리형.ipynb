{
 "cells": [
  {
   "cell_type": "code",
   "execution_count": 21,
   "id": "2b3329df",
   "metadata": {},
   "outputs": [],
   "source": [
    "import csv\n",
    "import pandas as pd\n",
    "import re"
   ]
  },
  {
   "cell_type": "code",
   "execution_count": 22,
   "id": "3ebff1f2",
   "metadata": {},
   "outputs": [],
   "source": [
    "# 1. 파일 경로 설정\n",
    "file_path = \"../data/[대본]우리형.csv\""
   ]
  },
  {
   "cell_type": "code",
   "execution_count": 23,
   "id": "bd7b375f",
   "metadata": {},
   "outputs": [],
   "source": [
    "# 2. 결과 저장 리스트\n",
    "dialogues = []"
   ]
  },
  {
   "cell_type": "code",
   "execution_count": 24,
   "id": "d493972e",
   "metadata": {},
   "outputs": [],
   "source": [
    "# 3. CSV 파일 열기 및 처리\n",
    "with open(file_path, \"r\", encoding=\"utf-8\", errors=\"ignore\") as f:\n",
    "    reader = csv.reader(f)\n",
    "    for row in reader:\n",
    "        if len(row) == 2:\n",
    "            # 화자 정리 (괄호 제거)\n",
    "            raw_speaker = row[0].strip().replace('\"', '')\n",
    "            speaker = re.sub(r'\\(.*?\\)', '', raw_speaker).strip()\n",
    "\n",
    "            # 대사 정리\n",
    "            dialogue = row[1].strip().replace('\"', '')\n",
    "\n",
    "            # 제외 조건: 괄호 지문, 숫자.형식, 대사/화자에 마침표 포함\n",
    "            if (\n",
    "                re.match(r'^\\(.*\\)$', dialogue)\n",
    "                or dialogue.startswith('(')\n",
    "                or re.match(r'^\\d{1,3}\\.\\s*', dialogue)\n",
    "                or '.' in speaker  # speaker에 마침표 포함 시 제외\n",
    "            ):\n",
    "                continue\n",
    "\n",
    "            # 사투리 분류\n",
    "            if speaker and dialogue:\n",
    "                dialect = \"표준어\" if speaker == \"종현\" else \"경상도\"\n",
    "                dialogues.append({\n",
    "                    \"Speaker\": speaker,\n",
    "                    \"CleanLine\": dialogue,\n",
    "                    \"Dialect\": dialect\n",
    "                })\n"
   ]
  },
  {
   "cell_type": "code",
   "execution_count": 25,
   "id": "e8c403b7",
   "metadata": {},
   "outputs": [
    {
     "name": "stdout",
     "output_type": "stream",
     "text": [
      "✅ 저장 완료: 우리형_사투리정리.csv\n"
     ]
    }
   ],
   "source": [
    "# 6. 데이터프레임 생성\n",
    "df = pd.DataFrame(dialogues)\n",
    "\n",
    "# 7. CSV 파일로 저장\n",
    "df.to_csv(\"우리형_사투리정리.csv\", index=False, encoding=\"utf-8\")\n",
    "\n",
    "print(\"✅ 저장 완료: 우리형_사투리정리.csv\")"
   ]
  }
 ],
 "metadata": {
  "kernelspec": {
   "display_name": "NLP",
   "language": "python",
   "name": "python3"
  },
  "language_info": {
   "codemirror_mode": {
    "name": "ipython",
    "version": 3
   },
   "file_extension": ".py",
   "mimetype": "text/x-python",
   "name": "python",
   "nbconvert_exporter": "python",
   "pygments_lexer": "ipython3",
   "version": "3.8.20"
  }
 },
 "nbformat": 4,
 "nbformat_minor": 5
}
