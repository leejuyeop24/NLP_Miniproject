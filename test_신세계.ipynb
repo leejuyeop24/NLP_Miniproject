{
 "cells": [
  {
   "cell_type": "code",
   "execution_count": 1,
   "id": "efd12cce",
   "metadata": {},
   "outputs": [],
   "source": [
    "import csv\n",
    "import pandas as pd\n",
    "import re"
   ]
  },
  {
   "cell_type": "code",
   "execution_count": 2,
   "id": "a355946b",
   "metadata": {},
   "outputs": [],
   "source": [
    "# 1. 대상 파일 경로\n",
    "file_path = \"../data/[대본]신세계.csv\""
   ]
  },
  {
   "cell_type": "code",
   "execution_count": 3,
   "id": "281a1e59",
   "metadata": {},
   "outputs": [],
   "source": [
    "# 2. 경상도 사투리 대상 인물 (정확히 일치)\n",
    "gyeongsang_exact = {\"정청\", \"이중구\", \"고국장\"}"
   ]
  },
  {
   "cell_type": "code",
   "execution_count": 4,
   "id": "014230df",
   "metadata": {},
   "outputs": [],
   "source": [
    "# 3. 결과 저장용 리스트\n",
    "filtered_dialogues = []"
   ]
  },
  {
   "cell_type": "code",
   "execution_count": 5,
   "id": "44384e9a",
   "metadata": {},
   "outputs": [],
   "source": [
    "# 4. 파일 읽고 처리\n",
    "with open(file_path, \"r\", encoding=\"utf-8\", errors=\"ignore\") as f:\n",
    "    reader = csv.reader(f)\n",
    "    for row in reader:\n",
    "        if len(row) == 2:\n",
    "            # 화자에서 괄호 제거\n",
    "            raw_speaker = row[0].strip().replace('\"', '')\n",
    "            speaker = re.sub(r'\\(.*?\\)', '', raw_speaker).strip()\n",
    "\n",
    "            # 대사 정제\n",
    "            dialogue = row[1].strip().replace('\"', '')\n",
    "\n",
    "            # 지문/설명 제거\n",
    "            if re.match(r'^\\(.*\\)$', dialogue) or dialogue.startswith('('):\n",
    "                continue\n",
    "\n",
    "            # 사투리 라벨링 (정확히 일치할 때만 경상도)\n",
    "            if speaker and dialogue:\n",
    "                dialect = \"경상도\" if speaker in gyeongsang_exact else \"표준어\"\n",
    "                filtered_dialogues.append({\n",
    "                    \"Speaker\": speaker,\n",
    "                    \"CleanLine\": dialogue,\n",
    "                    \"Dialect\": dialect\n",
    "                })"
   ]
  },
  {
   "cell_type": "code",
   "execution_count": 6,
   "id": "24f07464",
   "metadata": {},
   "outputs": [],
   "source": [
    "# 5. 데이터프레임으로 저장\n",
    "df = pd.DataFrame(filtered_dialogues)"
   ]
  },
  {
   "cell_type": "code",
   "execution_count": 7,
   "id": "eee7d625",
   "metadata": {},
   "outputs": [],
   "source": [
    "# 6. CSV 파일로 저장\n",
    "df.to_csv(\"신세계_사투리.csv\", index=False, encoding=\"utf-8\")"
   ]
  },
  {
   "cell_type": "code",
   "execution_count": null,
   "id": "32628a38",
   "metadata": {},
   "outputs": [],
   "source": []
  }
 ],
 "metadata": {
  "kernelspec": {
   "display_name": "NLP",
   "language": "python",
   "name": "python3"
  },
  "language_info": {
   "codemirror_mode": {
    "name": "ipython",
    "version": 3
   },
   "file_extension": ".py",
   "mimetype": "text/x-python",
   "name": "python",
   "nbconvert_exporter": "python",
   "pygments_lexer": "ipython3",
   "version": "3.8.20"
  }
 },
 "nbformat": 4,
 "nbformat_minor": 5
}
