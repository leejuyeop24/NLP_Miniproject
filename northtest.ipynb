{
 "cells": [
  {
   "cell_type": "code",
   "execution_count": 10,
   "id": "a1b57382",
   "metadata": {},
   "outputs": [],
   "source": [
    "import csv\n",
    "import pandas as pd\n",
    "import re"
   ]
  },
  {
   "cell_type": "code",
   "execution_count": 11,
   "id": "37d944ef",
   "metadata": {},
   "outputs": [],
   "source": [
    "# 1. 파일 경로\n",
    "file_path = \"../data/[대본]은밀하게_위대하게.csv\""
   ]
  },
  {
   "cell_type": "code",
   "execution_count": 12,
   "id": "c94b615d",
   "metadata": {},
   "outputs": [],
   "source": [
    "# 2. 북한 사투리 인물 리스트\n",
    "north_korean_names = [\"류환\", \"헤랑\", \"헤진\"]"
   ]
  },
  {
   "cell_type": "code",
   "execution_count": 13,
   "id": "dbfd2445",
   "metadata": {},
   "outputs": [],
   "source": [
    "# 3. 결과 저장 리스트\n",
    "final_dialogues = []"
   ]
  },
  {
   "cell_type": "code",
   "execution_count": 14,
   "id": "be7ab247",
   "metadata": {},
   "outputs": [],
   "source": [
    "# 4. 파일 읽기 및 처리\n",
    "with open(file_path, \"r\", encoding=\"utf-8\", errors=\"ignore\") as f:\n",
    "    reader = csv.reader(f)\n",
    "    for row in reader:\n",
    "        if len(row) == 2:\n",
    "            # 괄호 제거 후 화자 정제\n",
    "            raw_speaker = row[0].strip().replace('\"', '')\n",
    "            speaker_clean = re.sub(r'\\(.*?\\)', '', raw_speaker).strip()\n",
    "\n",
    "            # 대사 정제\n",
    "            dialogue = row[1].strip().replace('\"', '')\n",
    "\n",
    "            # 지문/괄호만 있는 대사 제외\n",
    "            if re.match(r'^\\(.*\\)$', dialogue) or dialogue.startswith('('):\n",
    "                continue\n",
    "\n",
    "            # 북한 사투리 조건: 이름이 포함되면 OK\n",
    "            if speaker_clean and dialogue:\n",
    "                if any(name in speaker_clean for name in north_korean_names):\n",
    "                    dialect = \"북한\"\n",
    "                else:\n",
    "                    dialect = \"표준어\"\n",
    "\n",
    "                final_dialogues.append({\n",
    "                    \"Speaker\": speaker_clean,\n",
    "                    \"CleanLine\": dialogue,\n",
    "                    \"Dialect\": dialect\n",
    "                })"
   ]
  },
  {
   "cell_type": "code",
   "execution_count": 15,
   "id": "e24bb1dd",
   "metadata": {},
   "outputs": [],
   "source": [
    "# 5. DataFrame으로 저장\n",
    "df = pd.DataFrame(final_dialogues)\n",
    "df.to_csv(\"은밀하게_위대하게_사투리정리.csv\", index=False, encoding=\"utf-8\")\n"
   ]
  }
 ],
 "metadata": {
  "kernelspec": {
   "display_name": "NLP",
   "language": "python",
   "name": "python3"
  },
  "language_info": {
   "codemirror_mode": {
    "name": "ipython",
    "version": 3
   },
   "file_extension": ".py",
   "mimetype": "text/x-python",
   "name": "python",
   "nbconvert_exporter": "python",
   "pygments_lexer": "ipython3",
   "version": "3.8.20"
  }
 },
 "nbformat": 4,
 "nbformat_minor": 5
}
