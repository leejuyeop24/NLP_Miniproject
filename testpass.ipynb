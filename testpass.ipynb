{
 "cells": [
  {
   "cell_type": "code",
   "execution_count": 32,
   "id": "b6e0c163",
   "metadata": {},
   "outputs": [],
   "source": [
    "import csv\n",
    "import re\n",
    "import pandas as pd"
   ]
  },
  {
   "cell_type": "code",
   "execution_count": 33,
   "id": "b64f621f",
   "metadata": {},
   "outputs": [],
   "source": [
    "# 1. 파일 경로 지정\n",
    "file_path = \"../data/[대본]부당거래.csv\""
   ]
  },
  {
   "cell_type": "code",
   "execution_count": 34,
   "id": "ca359572",
   "metadata": {},
   "outputs": [],
   "source": [
    "# 2. 결과 저장 리스트\n",
    "parsed_rows = []"
   ]
  },
  {
   "cell_type": "code",
   "execution_count": 35,
   "id": "215e1231",
   "metadata": {},
   "outputs": [],
   "source": [
    "# 3. CSV 파일 열기\n",
    "with open(file_path, \"r\", encoding=\"utf-8\", errors=\"ignore\") as f:\n",
    "    reader = csv.reader(f)\n",
    "    for row in reader:\n",
    "        if len(row) == 2:\n",
    "            # 괄호 제거 + 공백 정리\n",
    "            raw_speaker = row[0].strip().replace('\"', '')\n",
    "            speaker = re.sub(r'\\(.*?\\)', '', raw_speaker).strip()\n",
    "\n",
    "            dialogue = row[1].strip().replace('\"', '')\n",
    "\n",
    "            # 괄호로 된 지문 제외\n",
    "            if re.match(r'^\\(.*\\)$', dialogue) or dialogue.startswith('('):\n",
    "                continue\n",
    "\n",
    "            # 정확히 \"철기\"일 때만 경상도\n",
    "            dialect = \"경상도\" if speaker == \"철기\" else \"표준어\"\n",
    "\n",
    "            parsed_rows.append({\n",
    "                \"Speaker\": speaker,\n",
    "                \"CleanLine\": dialogue,\n",
    "                \"Dialect\": dialect\n",
    "            })"
   ]
  },
  {
   "cell_type": "code",
   "execution_count": 36,
   "id": "0b954fa6",
   "metadata": {},
   "outputs": [],
   "source": [
    "# 4. DataFrame으로 변환\n",
    "df = pd.DataFrame(parsed_rows)"
   ]
  },
  {
   "cell_type": "code",
   "execution_count": 37,
   "id": "0e08d695",
   "metadata": {},
   "outputs": [
    {
     "name": "stdout",
     "output_type": "stream",
     "text": [
      "✅ 처리 완료: 부당거래_사투리라벨_UTF8_파싱.csv\n"
     ]
    }
   ],
   "source": [
    "# 5. CSV로 저장\n",
    "df.to_csv(\"부당거래_사투리라벨1.csv\", index=False, encoding=\"utf-8\")\n",
    "\n",
    "print(\"✅ 처리 완료: 부당거래_사투리라벨_UTF8_파싱.csv\")"
   ]
  }
 ],
 "metadata": {
  "kernelspec": {
   "display_name": "NLP",
   "language": "python",
   "name": "python3"
  },
  "language_info": {
   "codemirror_mode": {
    "name": "ipython",
    "version": 3
   },
   "file_extension": ".py",
   "mimetype": "text/x-python",
   "name": "python",
   "nbconvert_exporter": "python",
   "pygments_lexer": "ipython3",
   "version": "3.8.20"
  }
 },
 "nbformat": 4,
 "nbformat_minor": 5
}
